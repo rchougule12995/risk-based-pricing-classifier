{
  "nbformat": 4,
  "nbformat_minor": 0,
  "metadata": {
    "kernelspec": {
      "display_name": "Python 3",
      "language": "python",
      "name": "python3"
    },
    "language_info": {
      "codemirror_mode": {
        "name": "ipython",
        "version": 3
      },
      "file_extension": ".py",
      "mimetype": "text/x-python",
      "name": "python",
      "nbconvert_exporter": "python",
      "pygments_lexer": "ipython3",
      "version": "3.7.3"
    },
    "colab": {
      "name": "AV_Banking_Hackathon_XGBoost-v3.ipynb",
      "provenance": [],
      "collapsed_sections": [],
      "toc_visible": true
    },
    "accelerator": "TPU"
  },
  "cells": [
    {
      "cell_type": "code",
      "metadata": {
        "id": "-dksSfciQLpx",
        "colab_type": "code",
        "colab": {}
      },
      "source": [
        "#Hello\n",
        "import pandas as pd\n",
        "import string\n",
        "from sklearn.preprocessing import MinMaxScaler\n",
        "import numpy as np\n",
        "from sklearn.model_selection import RandomizedSearchCV\n",
        "from sklearn.ensemble import RandomForestClassifier\n",
        "from sklearn.model_selection import train_test_split\n",
        "from sklearn.metrics import precision_recall_fscore_support as score\n",
        "from sklearn.metrics import accuracy_score\n",
        "from sklearn.model_selection import cross_val_score\n",
        "from sklearn.metrics import confusion_matrix\n",
        "from sklearn_pandas import DataFrameMapper\n",
        "from sklearn.ensemble import AdaBoostClassifier\n",
        "from sklearn.ensemble import VotingClassifier\n",
        "from xgboost import XGBClassifier\n",
        "from sklearn.linear_model import LogisticRegression"
      ],
      "execution_count": 0,
      "outputs": []
    },
    {
      "cell_type": "code",
      "metadata": {
        "id": "tt74-LVcQLp5",
        "colab_type": "code",
        "colab": {}
      },
      "source": [
        "df = pd.read_csv('train.csv', index_col=\"Loan_ID\")"
      ],
      "execution_count": 0,
      "outputs": []
    },
    {
      "cell_type": "code",
      "metadata": {
        "id": "dZvBMvqUQLp_",
        "colab_type": "code",
        "outputId": "d9899764-7710-46b7-8111-10d9799df110",
        "colab": {
          "base_uri": "https://localhost:8080/",
          "height": 323
        }
      },
      "source": [
        "df.head()"
      ],
      "execution_count": 3,
      "outputs": [
        {
          "output_type": "execute_result",
          "data": {
            "text/html": [
              "<div>\n",
              "<style scoped>\n",
              "    .dataframe tbody tr th:only-of-type {\n",
              "        vertical-align: middle;\n",
              "    }\n",
              "\n",
              "    .dataframe tbody tr th {\n",
              "        vertical-align: top;\n",
              "    }\n",
              "\n",
              "    .dataframe thead th {\n",
              "        text-align: right;\n",
              "    }\n",
              "</style>\n",
              "<table border=\"1\" class=\"dataframe\">\n",
              "  <thead>\n",
              "    <tr style=\"text-align: right;\">\n",
              "      <th></th>\n",
              "      <th>Loan_Amount_Requested</th>\n",
              "      <th>Length_Employed</th>\n",
              "      <th>Home_Owner</th>\n",
              "      <th>Annual_Income</th>\n",
              "      <th>Income_Verified</th>\n",
              "      <th>Purpose_Of_Loan</th>\n",
              "      <th>Debt_To_Income</th>\n",
              "      <th>Inquiries_Last_6Mo</th>\n",
              "      <th>Months_Since_Deliquency</th>\n",
              "      <th>Number_Open_Accounts</th>\n",
              "      <th>Total_Accounts</th>\n",
              "      <th>Gender</th>\n",
              "      <th>Interest_Rate</th>\n",
              "    </tr>\n",
              "    <tr>\n",
              "      <th>Loan_ID</th>\n",
              "      <th></th>\n",
              "      <th></th>\n",
              "      <th></th>\n",
              "      <th></th>\n",
              "      <th></th>\n",
              "      <th></th>\n",
              "      <th></th>\n",
              "      <th></th>\n",
              "      <th></th>\n",
              "      <th></th>\n",
              "      <th></th>\n",
              "      <th></th>\n",
              "      <th></th>\n",
              "    </tr>\n",
              "  </thead>\n",
              "  <tbody>\n",
              "    <tr>\n",
              "      <th>10000001</th>\n",
              "      <td>7,000</td>\n",
              "      <td>&lt; 1 year</td>\n",
              "      <td>Rent</td>\n",
              "      <td>68000.0</td>\n",
              "      <td>not verified</td>\n",
              "      <td>car</td>\n",
              "      <td>18.37</td>\n",
              "      <td>0</td>\n",
              "      <td>NaN</td>\n",
              "      <td>9</td>\n",
              "      <td>14</td>\n",
              "      <td>Female</td>\n",
              "      <td>1</td>\n",
              "    </tr>\n",
              "    <tr>\n",
              "      <th>10000002</th>\n",
              "      <td>30,000</td>\n",
              "      <td>4 years</td>\n",
              "      <td>Mortgage</td>\n",
              "      <td>NaN</td>\n",
              "      <td>VERIFIED - income</td>\n",
              "      <td>debt_consolidation</td>\n",
              "      <td>14.93</td>\n",
              "      <td>0</td>\n",
              "      <td>17.0</td>\n",
              "      <td>12</td>\n",
              "      <td>24</td>\n",
              "      <td>Female</td>\n",
              "      <td>3</td>\n",
              "    </tr>\n",
              "    <tr>\n",
              "      <th>10000003</th>\n",
              "      <td>24,725</td>\n",
              "      <td>7 years</td>\n",
              "      <td>Mortgage</td>\n",
              "      <td>75566.4</td>\n",
              "      <td>VERIFIED - income source</td>\n",
              "      <td>debt_consolidation</td>\n",
              "      <td>15.88</td>\n",
              "      <td>0</td>\n",
              "      <td>NaN</td>\n",
              "      <td>12</td>\n",
              "      <td>16</td>\n",
              "      <td>Male</td>\n",
              "      <td>3</td>\n",
              "    </tr>\n",
              "    <tr>\n",
              "      <th>10000004</th>\n",
              "      <td>16,000</td>\n",
              "      <td>&lt; 1 year</td>\n",
              "      <td>NaN</td>\n",
              "      <td>56160.0</td>\n",
              "      <td>VERIFIED - income source</td>\n",
              "      <td>debt_consolidation</td>\n",
              "      <td>14.34</td>\n",
              "      <td>3</td>\n",
              "      <td>NaN</td>\n",
              "      <td>16</td>\n",
              "      <td>22</td>\n",
              "      <td>Male</td>\n",
              "      <td>3</td>\n",
              "    </tr>\n",
              "    <tr>\n",
              "      <th>10000005</th>\n",
              "      <td>17,000</td>\n",
              "      <td>8 years</td>\n",
              "      <td>Own</td>\n",
              "      <td>96000.0</td>\n",
              "      <td>VERIFIED - income source</td>\n",
              "      <td>debt_consolidation</td>\n",
              "      <td>22.17</td>\n",
              "      <td>1</td>\n",
              "      <td>NaN</td>\n",
              "      <td>19</td>\n",
              "      <td>30</td>\n",
              "      <td>Female</td>\n",
              "      <td>1</td>\n",
              "    </tr>\n",
              "  </tbody>\n",
              "</table>\n",
              "</div>"
            ],
            "text/plain": [
              "         Loan_Amount_Requested Length_Employed  ...  Gender  Interest_Rate\n",
              "Loan_ID                                         ...                       \n",
              "10000001                 7,000        < 1 year  ...  Female              1\n",
              "10000002                30,000         4 years  ...  Female              3\n",
              "10000003                24,725         7 years  ...    Male              3\n",
              "10000004                16,000        < 1 year  ...    Male              3\n",
              "10000005                17,000         8 years  ...  Female              1\n",
              "\n",
              "[5 rows x 13 columns]"
            ]
          },
          "metadata": {
            "tags": []
          },
          "execution_count": 3
        }
      ]
    },
    {
      "cell_type": "code",
      "metadata": {
        "id": "Dq0SCcMVQLqE",
        "colab_type": "code",
        "outputId": "9dd77381-d349-48a1-a868-d9204cbb6387",
        "colab": {
          "base_uri": "https://localhost:8080/",
          "height": 255
        }
      },
      "source": [
        "df.isna().sum()"
      ],
      "execution_count": 4,
      "outputs": [
        {
          "output_type": "execute_result",
          "data": {
            "text/plain": [
              "Loan_Amount_Requested          0\n",
              "Length_Employed             7371\n",
              "Home_Owner                 25349\n",
              "Annual_Income              25102\n",
              "Income_Verified                0\n",
              "Purpose_Of_Loan                0\n",
              "Debt_To_Income                 0\n",
              "Inquiries_Last_6Mo             0\n",
              "Months_Since_Deliquency    88379\n",
              "Number_Open_Accounts           0\n",
              "Total_Accounts                 0\n",
              "Gender                         0\n",
              "Interest_Rate                  0\n",
              "dtype: int64"
            ]
          },
          "metadata": {
            "tags": []
          },
          "execution_count": 4
        }
      ]
    },
    {
      "cell_type": "markdown",
      "metadata": {
        "id": "CgRGCujAQLqJ",
        "colab_type": "text"
      },
      "source": [
        "#### Handling missing data"
      ]
    },
    {
      "cell_type": "code",
      "metadata": {
        "id": "PeajCLzsQLqL",
        "colab_type": "code",
        "colab": {}
      },
      "source": [
        "def cleaning_data(df):\n",
        "    df[\"Loan_Amount_Requested\"] = df[\"Loan_Amount_Requested\"].str.replace(\",\",\"\")\n",
        "    df[\"Loan_Amount_Requested\"] = df[\"Loan_Amount_Requested\"].astype(float)\n",
        "    df[\"Length_Employed\"] = df[\"Length_Employed\"].str.replace(r'[><+]+',\"\")\n",
        "    df[\"Length_Employed\"] = df[\"Length_Employed\"].str.extract('(\\d+)').astype(float)\n",
        "    df[\"Length_Employed\"] = df[\"Length_Employed\"].transform(lambda x: x.fillna(-1))\n",
        "    df[\"Annual_Income\"] = df.groupby([\"Length_Employed\"])[\"Annual_Income\"].transform(lambda x: x.fillna(x.median()))\n",
        "    df[\"Home_Owner\"] = df[\"Home_Owner\"].transform(lambda x: x.fillna(\"NA\"))\n",
        "    df[\"Months_Since_Deliquency\"] = df[\"Months_Since_Deliquency\"].transform(lambda x: x.fillna(-1))\n",
        "    return df"
      ],
      "execution_count": 0,
      "outputs": []
    },
    {
      "cell_type": "code",
      "metadata": {
        "id": "iJHCHmZIQLqO",
        "colab_type": "code",
        "colab": {}
      },
      "source": [
        "df = cleaning_data(df)"
      ],
      "execution_count": 0,
      "outputs": []
    },
    {
      "cell_type": "code",
      "metadata": {
        "id": "Z68P2x2JQLqf",
        "colab_type": "code",
        "colab": {}
      },
      "source": [
        "def label_encode(df):\n",
        "    from sklearn import preprocessing\n",
        "    le = preprocessing.LabelEncoder()\n",
        "    df[\"Income_Verified\"] = le.fit_transform(df[\"Income_Verified\"])\n",
        "    df[\"Home_Owner\"] = le.fit_transform(df[\"Home_Owner\"])\n",
        "    df[\"Purpose_Of_Loan\"] = le.fit_transform(df[\"Purpose_Of_Loan\"])\n",
        "    df[\"Gender\"] = le.fit_transform(df[\"Gender\"])\n",
        "    return df"
      ],
      "execution_count": 0,
      "outputs": []
    },
    {
      "cell_type": "code",
      "metadata": {
        "id": "Hwt4TOzFQLqj",
        "colab_type": "code",
        "colab": {}
      },
      "source": [
        "df = label_encode(df)"
      ],
      "execution_count": 0,
      "outputs": []
    },
    {
      "cell_type": "code",
      "metadata": {
        "id": "mnAJi3xB7z8W",
        "colab_type": "code",
        "colab": {}
      },
      "source": [
        "original_df = df.copy()\n",
        "df.to_csv(\"clean_export.csv\")\n",
        "df = df.drop(\"Interest_Rate\", axis=1)"
      ],
      "execution_count": 0,
      "outputs": []
    },
    {
      "cell_type": "code",
      "metadata": {
        "id": "4PteJGymQLqZ",
        "colab_type": "code",
        "colab": {}
      },
      "source": [
        "def normalize_data(df):\n",
        "  mapper = DataFrameMapper([(df.columns,MinMaxScaler())])\n",
        "  scaled_features = mapper.fit_transform(df.copy(), 4)\n",
        "  scaled_features_df = pd.DataFrame(scaled_features, index=df.index, columns=df.columns)\n",
        "  return scaled_features_df"
      ],
      "execution_count": 0,
      "outputs": []
    },
    {
      "cell_type": "code",
      "metadata": {
        "id": "QLa7wWnx7tho",
        "colab_type": "code",
        "colab": {}
      },
      "source": [
        "scaled_features_df = normalize_data(df)"
      ],
      "execution_count": 0,
      "outputs": []
    },
    {
      "cell_type": "code",
      "metadata": {
        "id": "bSKVPosDQLqy",
        "colab_type": "code",
        "colab": {}
      },
      "source": [
        "X_features = scaled_features_df"
      ],
      "execution_count": 0,
      "outputs": []
    },
    {
      "cell_type": "code",
      "metadata": {
        "id": "ZlheGWJHQLq5",
        "colab_type": "code",
        "colab": {}
      },
      "source": [
        "y = original_df[\"Interest_Rate\"]"
      ],
      "execution_count": 0,
      "outputs": []
    },
    {
      "cell_type": "code",
      "metadata": {
        "id": "OBQHgo2YQLq_",
        "colab_type": "code",
        "outputId": "db846db1-41bb-4833-9401-8afe24d24e2c",
        "colab": {
          "base_uri": "https://localhost:8080/",
          "height": 238
        }
      },
      "source": [
        "y"
      ],
      "execution_count": 14,
      "outputs": [
        {
          "output_type": "execute_result",
          "data": {
            "text/plain": [
              "Loan_ID\n",
              "10000001    1\n",
              "10000002    3\n",
              "10000003    3\n",
              "10000004    3\n",
              "10000005    1\n",
              "           ..\n",
              "10164305    2\n",
              "10164306    2\n",
              "10164307    1\n",
              "10164308    3\n",
              "10164309    2\n",
              "Name: Interest_Rate, Length: 164309, dtype: int64"
            ]
          },
          "metadata": {
            "tags": []
          },
          "execution_count": 14
        }
      ]
    },
    {
      "cell_type": "code",
      "metadata": {
        "id": "aI4NKhA76kTl",
        "colab_type": "code",
        "colab": {}
      },
      "source": [
        "#instantiate model and train\n",
        "# model = XGBClassifier(learning_rate = 0.05, n_estimators=500, max_depth=5)\n",
        "# model.fit(X_features, y)"
      ],
      "execution_count": 0,
      "outputs": []
    },
    {
      "cell_type": "code",
      "metadata": {
        "id": "GtzqA_0InJ3y",
        "colab_type": "code",
        "colab": {}
      },
      "source": [
        "## Rohit Random Forest\n",
        "n_estimators = [int(x) for x in range(200, 400, 10)]\n",
        "# Number of features to consider at every split\n",
        "max_features = ['auto', 'sqrt', 'log2']\n",
        "# Maximum number of levels in tree\n",
        "max_depth = [int(x) for x in range(100, 500, 10)]\n",
        "max_depth.append(None)\n",
        "\n",
        "# Create the random grid\n",
        "random_grid = {'n_estimators': n_estimators,\n",
        "               'max_features': max_features,\n",
        "               'max_depth': max_depth\n",
        "              }"
      ],
      "execution_count": 0,
      "outputs": []
    },
    {
      "cell_type": "code",
      "metadata": {
        "id": "MeYMUjBunehf",
        "colab_type": "code",
        "colab": {}
      },
      "source": [
        "# rf = RandomForestClassifier()\n",
        "# # Random search of parameters, using default 5 fold cross validation, \n",
        "# # search across different combinations, and use all available cores\n",
        "# rf_random = RandomizedSearchCV(estimator = rf, param_distributions = random_grid)\n",
        "# # Fit the random search model\n",
        "# rf_random.fit(X_features, y)"
      ],
      "execution_count": 0,
      "outputs": []
    },
    {
      "cell_type": "code",
      "metadata": {
        "id": "MArtyb2koIP_",
        "colab_type": "code",
        "colab": {}
      },
      "source": [
        "#rf_random.best_params_"
      ],
      "execution_count": 0,
      "outputs": []
    },
    {
      "cell_type": "code",
      "metadata": {
        "id": "KORY7jObsHCh",
        "colab_type": "code",
        "colab": {}
      },
      "source": [
        "n_estimators = 500\n",
        "max_depth = 100\n",
        "max_features = \"auto\"\n"
      ],
      "execution_count": 0,
      "outputs": []
    },
    {
      "cell_type": "code",
      "metadata": {
        "id": "_sjZHJ6QoGrH",
        "colab_type": "code",
        "colab": {}
      },
      "source": [
        "def rforestModel_train():\n",
        "    n_estimators = rf_random.best_params_[\"n_estimators\"]\n",
        "    max_depth = rf_random.best_params_[\"max_depth\"]\n",
        "    max_features = rf_random.best_params_[\"max_features\"]\n",
        "    rf_Model = RandomForestClassifier(n_estimators = n_estimators, max_depth = max_depth, \n",
        "                                    max_features = max_features)\n",
        "    #rf_Model.fit(X_features, y)\n",
        "    return rf_Model"
      ],
      "execution_count": 0,
      "outputs": []
    },
    {
      "cell_type": "code",
      "metadata": {
        "id": "3q1haf1Mo1U0",
        "colab_type": "code",
        "colab": {}
      },
      "source": [
        "#rf_Model = rforestModel_train()"
      ],
      "execution_count": 0,
      "outputs": []
    },
    {
      "cell_type": "code",
      "metadata": {
        "id": "iv4o2TU-Khhl",
        "colab_type": "code",
        "colab": {}
      },
      "source": [
        "ada_boost = AdaBoostClassifier(n_estimators=500, random_state=12)\n",
        "XGB_boost = XGBClassifier(learning_rate = 0.05, n_estimators=500, max_depth=5)\n",
        "rf_Model = RandomForestClassifier(n_estimators = n_estimators, max_depth = max_depth, \n",
        "                                    max_features = max_features)\n",
        "LogReg_Model = LogisticRegression(multi_class = 'multinomial')\n",
        " \n",
        "voting_clf = VotingClassifier(estimators=[('XGB_boost', XGB_boost), ('ada_boost', ada_boost), ('randomForest', rf_Model),('LogReg_Model',LogReg_Model)], voting='hard')\n",
        "voting_clf.fit(X_features, y)"
      ],
      "execution_count": 0,
      "outputs": []
    },
    {
      "cell_type": "code",
      "metadata": {
        "id": "QhJ-2jdjPDIi",
        "colab_type": "code",
        "colab": {}
      },
      "source": [
        "test_df = pd.read_csv(\"test.csv\", index_col = \"Loan_ID\")"
      ],
      "execution_count": 0,
      "outputs": []
    },
    {
      "cell_type": "code",
      "metadata": {
        "id": "kZq_xU5JTnQX",
        "colab_type": "code",
        "colab": {}
      },
      "source": [
        "test_df.isna().sum()"
      ],
      "execution_count": 0,
      "outputs": []
    },
    {
      "cell_type": "code",
      "metadata": {
        "id": "6n1I453xTu2m",
        "colab_type": "code",
        "colab": {}
      },
      "source": [
        "test_df = cleaning_data(test_df)"
      ],
      "execution_count": 0,
      "outputs": []
    },
    {
      "cell_type": "code",
      "metadata": {
        "id": "100tdcvrT1Jp",
        "colab_type": "code",
        "colab": {}
      },
      "source": [
        "test_df = label_encode(test_df)"
      ],
      "execution_count": 0,
      "outputs": []
    },
    {
      "cell_type": "code",
      "metadata": {
        "id": "oQJi-m00T7p0",
        "colab_type": "code",
        "colab": {}
      },
      "source": [
        "scaled_features_test_df = normalize_data(test_df)"
      ],
      "execution_count": 0,
      "outputs": []
    },
    {
      "cell_type": "code",
      "metadata": {
        "id": "hdLQDmd9q9qY",
        "colab_type": "code",
        "colab": {}
      },
      "source": [
        "predictions = voting_clf.predict(scaled_features_test_df)"
      ],
      "execution_count": 0,
      "outputs": []
    },
    {
      "cell_type": "code",
      "metadata": {
        "id": "hPDp5LamUN1y",
        "colab_type": "code",
        "colab": {}
      },
      "source": [
        "# xgBoostpredictions = model.predict(scaled_features_test_df)"
      ],
      "execution_count": 0,
      "outputs": []
    },
    {
      "cell_type": "code",
      "metadata": {
        "id": "jEo3KJlZoub2",
        "colab_type": "code",
        "colab": {}
      },
      "source": [
        "# rfpredictions = rf_Model.predict(scaled_features_test_df)"
      ],
      "execution_count": 0,
      "outputs": []
    },
    {
      "cell_type": "code",
      "metadata": {
        "id": "Xzy1suX7UZpl",
        "colab_type": "code",
        "colab": {}
      },
      "source": [
        "output_df = pd.DataFrame({'Loan_ID': scaled_features_test_df.index, 'Interest_Rate': predictions})"
      ],
      "execution_count": 0,
      "outputs": []
    },
    {
      "cell_type": "code",
      "metadata": {
        "id": "M8M3VjJ9UfHg",
        "colab_type": "code",
        "colab": {}
      },
      "source": [
        "output_df.to_csv(\"solution.csv\", index=False)"
      ],
      "execution_count": 0,
      "outputs": []
    }
  ]
}